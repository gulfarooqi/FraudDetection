{
  "nbformat": 4,
  "nbformat_minor": 0,
  "metadata": {
    "colab": {
      "name": "Fraud Detection.ipynb",
      "provenance": [],
      "include_colab_link": true
    },
    "kernelspec": {
      "name": "python3",
      "display_name": "Python 3"
    }
  },
  "cells": [
    {
      "cell_type": "markdown",
      "metadata": {
        "id": "view-in-github",
        "colab_type": "text"
      },
      "source": [
        "<a href=\"https://colab.research.google.com/github/gulfarooqi/FraudDetection/blob/master/Fraud_Detection.ipynb\" target=\"_parent\"><img src=\"https://colab.research.google.com/assets/colab-badge.svg\" alt=\"Open In Colab\"/></a>"
      ]
    },
    {
      "cell_type": "code",
      "metadata": {
        "id": "k9RrmmeGvoMv",
        "colab_type": "code",
        "colab": {}
      },
      "source": [
        "import seaborn as sns\n",
        "import pandas as pd\n",
        "import numpy as np\n",
        "import matplotlib.pyplot as plt\n",
        "from sklearn.linear_model import LinearRegression\n",
        "from sklearn.linear_model import LogisticRegression\n",
        "from scipy import stats\n",
        "\n",
        "\n",
        "train_id = pd.read_csv('train_identity.csv')\n",
        "train_trans = pd.read_csv('train_transaction.csv')"
      ],
      "execution_count": 0,
      "outputs": []
    },
    {
      "cell_type": "code",
      "metadata": {
        "id": "Kkj2R7ZK4XI1",
        "colab_type": "code",
        "outputId": "a7647c4f-0000-456a-fa1e-84df0bac7a20",
        "colab": {
          "base_uri": "https://localhost:8080/",
          "height": 351
        }
      },
      "source": [
        "print('Number of elements in the sheet = ', train_id.size) # Total number of boxes in the Sheet\n",
        "print('(rows, columns) =',train_id.shape) # Number of Rows and Columns in the DataFrame\n",
        "print(train_trans.shape)\n",
        "\n",
        "print(train_id.head())\n",
        "print(train_trans.head())"
      ],
      "execution_count": 39,
      "outputs": [
        {
          "output_type": "stream",
          "text": [
            "Number of elements in the sheet =  5913553\n",
            "(rows, columns) = (144233, 41)\n",
            "(590540, 394)\n",
            "   TransactionID  id_01  ...  DeviceType                     DeviceInfo\n",
            "0        2987004    0.0  ...      mobile  SAMSUNG SM-G892A Build/NRD90M\n",
            "1        2987008   -5.0  ...      mobile                     iOS Device\n",
            "2        2987010   -5.0  ...     desktop                        Windows\n",
            "3        2987011   -5.0  ...     desktop                            NaN\n",
            "4        2987016    0.0  ...     desktop                          MacOS\n",
            "\n",
            "[5 rows x 41 columns]\n",
            "   TransactionID  isFraud  TransactionDT  ...  V337 V338  V339\n",
            "0        2987000        0          86400  ...   NaN  NaN   NaN\n",
            "1        2987001        0          86401  ...   NaN  NaN   NaN\n",
            "2        2987002        0          86469  ...   NaN  NaN   NaN\n",
            "3        2987003        0          86499  ...   NaN  NaN   NaN\n",
            "4        2987004        0          86506  ...   0.0  0.0   0.0\n",
            "\n",
            "[5 rows x 394 columns]\n"
          ],
          "name": "stdout"
        }
      ]
    },
    {
      "cell_type": "code",
      "metadata": {
        "id": "jn93otJ268lJ",
        "colab_type": "code",
        "outputId": "da0b0578-5853-4ecf-f124-0b49068d09ed",
        "colab": {
          "base_uri": "https://localhost:8080/",
          "height": 70
        }
      },
      "source": [
        "# Merge the two datasheets into one\n",
        "df = pd.merge(train_trans, train_id, on='TransactionID', how='left') \n",
        "l = len(df.count(1)) # length of the index in df\n",
        "\n",
        "df = df.dropna(1, thresh=l*0.35) # keep only the rows with at least 90% of the size of the total rows to be non-NA values\n",
        "\n",
        "fraud = df.loc[df['isFraud'] == 1]\n",
        "non_frauds = df.loc[df['isFraud'] == 0]\n",
        "\n",
        "print(df.shape)\n",
        "print(len(fraud))\n",
        "print(len(non_frauds))"
      ],
      "execution_count": 40,
      "outputs": [
        {
          "output_type": "stream",
          "text": [
            "(590540, 226)\n",
            "20663\n",
            "569877\n"
          ],
          "name": "stdout"
        }
      ]
    },
    {
      "cell_type": "code",
      "metadata": {
        "id": "aeVuLHShtVyb",
        "colab_type": "code",
        "colab": {}
      },
      "source": [
        "# Fill NaNs\n",
        "\n",
        "df = df.fillna(-999)"
      ],
      "execution_count": 0,
      "outputs": []
    },
    {
      "cell_type": "code",
      "metadata": {
        "id": "HK1DT-3a0R9H",
        "colab_type": "code",
        "colab": {}
      },
      "source": [
        "# Show unique values in each column\n",
        "\n",
        "i=4\n",
        "columns = df.columns\n",
        "print('The column %s has %d unique values' % (columns[i], df[columns[i]].nunique()))\n",
        "# print(df[columns[i]].nunique() , type(df[columns[i]].nunique()))\n",
        "i =0\n",
        "for column in df:\n",
        "  print('The column %s has %s unique values' % (df.columns[i], str(df[columns[i]].nunique())))\n",
        "  i = i + 1\n",
        "  "
      ],
      "execution_count": 0,
      "outputs": []
    },
    {
      "cell_type": "code",
      "metadata": {
        "id": "8vYddAhbJUzj",
        "colab_type": "code",
        "colab": {
          "base_uri": "https://localhost:8080/",
          "height": 70
        },
        "outputId": "8113013a-ffde-4d26-c7e2-f3623dc8a431"
      },
      "source": [
        "# Show categorical columns\n",
        "cats = df[df.select_dtypes(include=['object']).columns]\n",
        "cat_col = cats.columns\n",
        "print(cat_col)\n"
      ],
      "execution_count": 42,
      "outputs": [
        {
          "output_type": "stream",
          "text": [
            "Index(['ProductCD', 'card4', 'card6', 'P_emaildomain', 'M1', 'M2', 'M3', 'M4',\n",
            "       'M5', 'M6', 'M7', 'M8', 'M9'],\n",
            "      dtype='object')\n"
          ],
          "name": "stdout"
        }
      ]
    },
    {
      "cell_type": "code",
      "metadata": {
        "id": "6-aPkyf2nPgo",
        "colab_type": "code",
        "colab": {
          "base_uri": "https://localhost:8080/",
          "height": 158
        },
        "outputId": "faa34542-48e2-437f-fe62-713c4635ee86"
      },
      "source": [
        "# Label encoding for categorical variables\n",
        "\n",
        "from sklearn import preprocessing\n",
        "\n",
        "\n",
        "for f in df.columns:\n",
        "    if df[f].dtype=='object': \n",
        "        le = preprocessing.LabelEncoder()\n",
        "        le.fit(list(df[f].values))\n",
        "        df[f] = le.transform(list(df[f].values))\n",
        "\n",
        "\n",
        "print(df.head())\n"
      ],
      "execution_count": 43,
      "outputs": [
        {
          "output_type": "stream",
          "text": [
            "   TransactionID  isFraud  TransactionDT  ...  V319  V320  V321\n",
            "0        2987000        0          86400  ...   0.0   0.0   0.0\n",
            "1        2987001        0          86401  ...   0.0   0.0   0.0\n",
            "2        2987002        0          86469  ...   0.0   0.0   0.0\n",
            "3        2987003        0          86499  ...   0.0   0.0   0.0\n",
            "4        2987004        0          86506  ...   0.0   0.0   0.0\n",
            "\n",
            "[5 rows x 226 columns]\n"
          ],
          "name": "stdout"
        }
      ]
    },
    {
      "cell_type": "code",
      "metadata": {
        "id": "d5fDAelwunqK",
        "colab_type": "code",
        "colab": {}
      },
      "source": [
        "from sklearn.model_selection import train_test_split\n",
        "\n",
        "# split x to features, y as the label\n",
        "x = df.drop(['isFraud'], axis= 1)\n",
        "y = df['isFraud']\n",
        "\n",
        "# split data for testing and evaluation\n",
        "X_train, X_test, y_train, y_test = train_test_split(x, y, test_size=0.35)"
      ],
      "execution_count": 0,
      "outputs": []
    },
    {
      "cell_type": "code",
      "metadata": {
        "id": "Z6oDd59Z6RHR",
        "colab_type": "code",
        "outputId": "8477ecdc-9ca7-435d-a38d-2d3b5f5e3c42",
        "colab": {
          "base_uri": "https://localhost:8080/",
          "height": 90
        }
      },
      "source": [
        "clf = LogisticRegression(C=1e6)\n",
        "clf.fit(X_train, y_train)\n",
        "print(\"Score: \", clf.score(X_test, y_test))"
      ],
      "execution_count": 45,
      "outputs": [
        {
          "output_type": "stream",
          "text": [
            "/usr/local/lib/python3.6/dist-packages/sklearn/linear_model/logistic.py:432: FutureWarning: Default solver will be changed to 'lbfgs' in 0.22. Specify a solver to silence this warning.\n",
            "  FutureWarning)\n"
          ],
          "name": "stderr"
        },
        {
          "output_type": "stream",
          "text": [
            "Score:  0.9652714948545883\n"
          ],
          "name": "stdout"
        }
      ]
    }
  ]
}